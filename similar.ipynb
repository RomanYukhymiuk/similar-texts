{
  "nbformat": 4,
  "nbformat_minor": 0,
  "metadata": {
    "colab": {
      "name": "Юхимюк_Л5.ipynb",
      "provenance": []
    },
    "kernelspec": {
      "name": "python3",
      "display_name": "Python 3"
    },
    "language_info": {
      "name": "python"
    }
  },
  "cells": [
    {
      "cell_type": "markdown",
      "metadata": {
        "id": "q9AcCOcjWLtw"
      },
      "source": [
        "Юхимюк Роман"
      ]
    },
    {
      "cell_type": "code",
      "metadata": {
        "id": "OOWxBTDeCSmx"
      },
      "source": [
        "import gensim.models as gm\n",
        "import pandas as pd\n",
        "import string\n",
        "import spacy\n",
        "from nltk.stem.snowball import SnowballStemmer\n",
        "from sklearn.linear_model import LogisticRegression\n",
        "import numpy as np\n",
        "from sklearn.model_selection import train_test_split\n",
        "from sklearn.feature_extraction.text import TfidfVectorizer\n",
        "from scipy import spatial"
      ],
      "execution_count": 8,
      "outputs": []
    },
    {
      "cell_type": "markdown",
      "metadata": {
        "id": "_ZN-kMxcWRm5"
      },
      "source": [
        "ПІДГОТОВКА"
      ]
    },
    {
      "cell_type": "code",
      "metadata": {
        "id": "fgYXnlQgCkGE"
      },
      "source": [
        "nlp = spacy.load('en_core_web_sm')\n",
        "spacy_stopwords = spacy.lang.en.stop_words.STOP_WORDS\n",
        "stemmer = SnowballStemmer(language='english')"
      ],
      "execution_count": 2,
      "outputs": []
    },
    {
      "cell_type": "code",
      "metadata": {
        "id": "WYnJrU15Cnks"
      },
      "source": [
        "#=================================================\n",
        "# 1\n",
        "def delete_non_literal(txt):\n",
        "    ascii = (string.ascii_letters + \" \")\n",
        "    data1 = (c for c in txt if c in ascii)\n",
        "    txt1 = \"\".join(data1)\n",
        "    return ' '.join(txt1.split())\n",
        "\n",
        "\n",
        "# 2\n",
        "def tokenization(txt):\n",
        "    return [str(tok) for tok in txt]\n",
        "\n",
        "\n",
        "# 3\n",
        "def delete_stopwords(tokenn):\n",
        "    return [tok for tok in tokenn if not tok in spacy_stopwords]\n",
        "\n",
        "\n",
        "# 4\n",
        "def case_change(tokenn):\n",
        "    return [tok.lower() for tok in tokenn]\n",
        "\n",
        "\n",
        "# 5\n",
        "def stemming(tokenn):\n",
        "    return [stemmer.stem(tok) for tok in tokenn]\n",
        "\n",
        "\n",
        "# 6\n",
        "def lemmatization(txt):\n",
        "    return [tok.lemma_ for tok in txt]\n",
        "\n",
        "\n",
        "def all(txt):\n",
        "    x = nlp(delete_non_literal(txt))\n",
        "    a = tokenization(x)\n",
        "    b = delete_stopwords(case_change(a))\n",
        "    c = lemmatization(nlp(' '.join(b)))\n",
        "    return stemming(c)\n",
        "#==================================="
      ],
      "execution_count": 3,
      "outputs": []
    },
    {
      "cell_type": "markdown",
      "metadata": {
        "id": "XeQDuakgWUna"
      },
      "source": [
        "Знайти текстовий датасет для задач ранкінгу.\n",
        "Датасет текстів:"
      ]
    },
    {
      "cell_type": "code",
      "metadata": {
        "colab": {
          "base_uri": "https://localhost:8080/",
          "height": 417
        },
        "id": "0uQPTTXfC2BS",
        "outputId": "6b2008bc-49d8-4fb4-a7bd-84de32af78b6"
      },
      "source": [
        "df = pd.read_csv('APPLE_iPhone_SE.csv', encoding='utf8')\n",
        "df = df[[\"Ratings\", \"Reviews\"]].dropna()\n",
        "df"
      ],
      "execution_count": 5,
      "outputs": [
        {
          "output_type": "execute_result",
          "data": {
            "text/html": [
              "<div>\n",
              "<style scoped>\n",
              "    .dataframe tbody tr th:only-of-type {\n",
              "        vertical-align: middle;\n",
              "    }\n",
              "\n",
              "    .dataframe tbody tr th {\n",
              "        vertical-align: top;\n",
              "    }\n",
              "\n",
              "    .dataframe thead th {\n",
              "        text-align: right;\n",
              "    }\n",
              "</style>\n",
              "<table border=\"1\" class=\"dataframe\">\n",
              "  <thead>\n",
              "    <tr style=\"text-align: right;\">\n",
              "      <th></th>\n",
              "      <th>Ratings</th>\n",
              "      <th>Reviews</th>\n",
              "    </tr>\n",
              "  </thead>\n",
              "  <tbody>\n",
              "    <tr>\n",
              "      <th>0</th>\n",
              "      <td>5</td>\n",
              "      <td>Great camera for pics and videos Battery life ...</td>\n",
              "    </tr>\n",
              "    <tr>\n",
              "      <th>1</th>\n",
              "      <td>5</td>\n",
              "      <td>Great device. Let me tell the Pros..1. Superb ...</td>\n",
              "    </tr>\n",
              "    <tr>\n",
              "      <th>2</th>\n",
              "      <td>5</td>\n",
              "      <td>Who all loves older size i.e., 4.7 inch type s...</td>\n",
              "    </tr>\n",
              "    <tr>\n",
              "      <th>3</th>\n",
              "      <td>5</td>\n",
              "      <td>This iPhone SE is the best phone ever you get....</td>\n",
              "    </tr>\n",
              "    <tr>\n",
              "      <th>4</th>\n",
              "      <td>5</td>\n",
              "      <td>This is my second iphone after iphone 4s. I’ve...</td>\n",
              "    </tr>\n",
              "    <tr>\n",
              "      <th>...</th>\n",
              "      <td>...</td>\n",
              "      <td>...</td>\n",
              "    </tr>\n",
              "    <tr>\n",
              "      <th>9708</th>\n",
              "      <td>5</td>\n",
              "      <td>Absolutely brilliantREAD MORE</td>\n",
              "    </tr>\n",
              "    <tr>\n",
              "      <th>9709</th>\n",
              "      <td>5</td>\n",
              "      <td>Superb phone. This is my 4th iPhone, I feel SE...</td>\n",
              "    </tr>\n",
              "    <tr>\n",
              "      <th>9710</th>\n",
              "      <td>5</td>\n",
              "      <td>very niceREAD MORE</td>\n",
              "    </tr>\n",
              "    <tr>\n",
              "      <th>9711</th>\n",
              "      <td>5</td>\n",
              "      <td>Loving it as of now. Good Product .READ MORE</td>\n",
              "    </tr>\n",
              "    <tr>\n",
              "      <th>9712</th>\n",
              "      <td>5</td>\n",
              "      <td>NiceElegant ElectricREAD MORE</td>\n",
              "    </tr>\n",
              "  </tbody>\n",
              "</table>\n",
              "<p>9713 rows × 2 columns</p>\n",
              "</div>"
            ],
            "text/plain": [
              "      Ratings                                            Reviews\n",
              "0           5  Great camera for pics and videos Battery life ...\n",
              "1           5  Great device. Let me tell the Pros..1. Superb ...\n",
              "2           5  Who all loves older size i.e., 4.7 inch type s...\n",
              "3           5  This iPhone SE is the best phone ever you get....\n",
              "4           5  This is my second iphone after iphone 4s. I’ve...\n",
              "...       ...                                                ...\n",
              "9708        5                      Absolutely brilliantREAD MORE\n",
              "9709        5  Superb phone. This is my 4th iPhone, I feel SE...\n",
              "9710        5                                 very niceREAD MORE\n",
              "9711        5       Loving it as of now. Good Product .READ MORE\n",
              "9712        5                      NiceElegant ElectricREAD MORE\n",
              "\n",
              "[9713 rows x 2 columns]"
            ]
          },
          "metadata": {},
          "execution_count": 5
        }
      ]
    },
    {
      "cell_type": "code",
      "metadata": {
        "id": "mdG64u36D7bz"
      },
      "source": [
        "df2 = df[\"Reviews\"]"
      ],
      "execution_count": 6,
      "outputs": []
    },
    {
      "cell_type": "markdown",
      "metadata": {
        "id": "d87s_keJK5BK"
      },
      "source": [
        "II. Підготувати дані до обробки"
      ]
    },
    {
      "cell_type": "markdown",
      "metadata": {
        "id": "AySg8TyVWeuw"
      },
      "source": [
        "Підготовка даних:"
      ]
    },
    {
      "cell_type": "code",
      "metadata": {
        "id": "NgA2AYNzEceQ"
      },
      "source": [
        "arr = []\n",
        "for i in df2:\n",
        "    lst = all(i)\n",
        "    arr.append(lst)"
      ],
      "execution_count": 7,
      "outputs": []
    },
    {
      "cell_type": "code",
      "metadata": {
        "id": "CltypmPsFTd-"
      },
      "source": [
        "arr1 = [' '.join(i) for i in arr]"
      ],
      "execution_count": 9,
      "outputs": []
    },
    {
      "cell_type": "markdown",
      "metadata": {
        "id": "kOn5AaJOK_wR"
      },
      "source": [
        "III. Побудувати tf-idf модель\n",
        "\n",
        "IV. Перетворити тексти на вектори"
      ]
    },
    {
      "cell_type": "code",
      "metadata": {
        "id": "xh0J4E5xFexc"
      },
      "source": [
        "tf_idf = TfidfVectorizer()\n",
        "X = tf_idf.fit_transform(arr1)\n",
        "X = X.toarray()"
      ],
      "execution_count": 10,
      "outputs": []
    },
    {
      "cell_type": "markdown",
      "metadata": {
        "id": "lEwoFk0hLNEE"
      },
      "source": [
        "V. Сформувати пошуковий запит і також його векторизувати"
      ]
    },
    {
      "cell_type": "code",
      "metadata": {
        "id": "t4xWHy5WxevQ"
      },
      "source": [
        "request = \"Cool phone. Waterproof, can be drowned. The camera is cool and the design is beautiful. The powerful battery will surprise you, and the price is quite attractive.\"\n",
        "req = ' '.join(all(request))"
      ],
      "execution_count": 11,
      "outputs": []
    },
    {
      "cell_type": "code",
      "metadata": {
        "id": "v3EY6B3-yk86"
      },
      "source": [
        "reqvec = tf_idf.transform([req])\n",
        "reqvec = reqvec.toarray()[0]"
      ],
      "execution_count": 12,
      "outputs": []
    },
    {
      "cell_type": "markdown",
      "metadata": {
        "id": "gvhIEl_yLSA7"
      },
      "source": [
        "VI. Знайти найближчі до вектору запиту 10 векторів текстів за допомогою\n",
        "косинусної відстані. Для цього розрахувати косинусну відстань між векторами\n",
        "усіх текстів та вектором запиту."
      ]
    },
    {
      "cell_type": "code",
      "metadata": {
        "id": "eP9eIDKO4Cuo"
      },
      "source": [
        "arr_simmilarity = [spatial.distance.cosine(i, reqvec) for i in X]"
      ],
      "execution_count": 13,
      "outputs": []
    },
    {
      "cell_type": "code",
      "metadata": {
        "colab": {
          "base_uri": "https://localhost:8080/"
        },
        "id": "QuaUiUwR5R1Z",
        "outputId": "f8e5cbc1-cdd1-41b7-cebb-3ddff21e4f8f"
      },
      "source": [
        "a = (np.argsort(arr_simmilarity))[:10]"
      ],
      "execution_count": 14,
      "outputs": [
        {
          "output_type": "execute_result",
          "data": {
            "text/plain": [
              "array([5184, 4611, 2405, 3659,  442, 5374, 9168,  537, 4339, 7960])"
            ]
          },
          "metadata": {},
          "execution_count": 14
        }
      ]
    },
    {
      "cell_type": "code",
      "metadata": {
        "id": "T9gKlHPk5yjz"
      },
      "source": [
        "texts = [df2.iloc[i] for i in a]"
      ],
      "execution_count": 18,
      "outputs": []
    },
    {
      "cell_type": "code",
      "metadata": {
        "colab": {
          "base_uri": "https://localhost:8080/"
        },
        "id": "rdeSENIYH6fZ",
        "outputId": "56b5c9ab-4601-4970-ab37-d9a5d430f128"
      },
      "source": [
        "texts"
      ],
      "execution_count": 19,
      "outputs": [
        {
          "output_type": "execute_result",
          "data": {
            "text/plain": [
              "['Cool oneREAD MORE',\n",
              " 'Very cool product I am loving itREAD MORE',\n",
              " 'The device looks good and attractive for the price. Smart, Handy and cool mobile to have.READ MORE',\n",
              " 'I’m happy with this cool iPhone seREAD MORE',\n",
              " 'Awesome product... Super fast processor.... camera is good... cool design... Red is really nice...READ MORE',\n",
              " 'Cool very fast and best in classREAD MORE',\n",
              " 'Cool product with 2 sim from iPhone. Loved it.READ MORE',\n",
              " 'Best 1 with a cool design and development.good processing as well as gud camera.READ MORE',\n",
              " 'Super cool Phone u you have take 128gb romREAD MORE',\n",
              " 'Really an amazing deal at 25 K. And the color red is so cool. Love itREAD MORE']"
            ]
          },
          "metadata": {},
          "execution_count": 19
        }
      ]
    },
    {
      "cell_type": "markdown",
      "metadata": {
        "id": "19aFzi3uL_WA"
      },
      "source": [
        "Корпус має зчитуватись із файлів. Запит та найближчі до нього тексти мають\n",
        "бути виведені в файл output.txt. Примітка – у файл вивести саме початкові\n",
        "тексти, а не їх вектори!"
      ]
    },
    {
      "cell_type": "code",
      "metadata": {
        "id": "BY6trqWWL9Ge"
      },
      "source": [
        "with open('output.txt', 'w', encoding='utf-8') as fw:\n",
        "    fw.write(\"Request: \" + request + \"\\n\")\n",
        "    fw.write(\"Similar texts: \\n\")\n",
        "    for i in texts:\n",
        "          fw.write(i)\n",
        "          fw.write(\"\\n\")"
      ],
      "execution_count": 22,
      "outputs": []
    }
  ]
}
